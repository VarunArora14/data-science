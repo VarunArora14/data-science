{
 "cells": [
  {
   "cell_type": "code",
   "execution_count": 65,
   "metadata": {},
   "outputs": [],
   "source": [
    "import matplotlib.pyplot as plt\n",
    "import numpy as np"
   ]
  },
  {
   "cell_type": "code",
   "execution_count": 66,
   "metadata": {},
   "outputs": [],
   "source": [
    "x = np.arange(0,9)"
   ]
  },
  {
   "cell_type": "code",
   "execution_count": 67,
   "metadata": {},
   "outputs": [],
   "source": [
    "y=2*x"
   ]
  },
  {
   "cell_type": "code",
   "execution_count": 68,
   "metadata": {},
   "outputs": [
    {
     "data": {
      "text/plain": [
       "array([0, 1, 2, 3, 4, 5, 6, 7, 8])"
      ]
     },
     "execution_count": 68,
     "metadata": {},
     "output_type": "execute_result"
    }
   ],
   "source": [
    "x"
   ]
  },
  {
   "cell_type": "code",
   "execution_count": 69,
   "metadata": {},
   "outputs": [
    {
     "data": {
      "text/plain": [
       "array([ 0,  2,  4,  6,  8, 10, 12, 14, 16])"
      ]
     },
     "execution_count": 69,
     "metadata": {},
     "output_type": "execute_result"
    }
   ],
   "source": [
    "y"
   ]
  },
  {
   "cell_type": "markdown",
   "metadata": {},
   "source": [
    "#### Creating and Saving plots in matplotlib"
   ]
  },
  {
   "cell_type": "code",
   "execution_count": 74,
   "metadata": {},
   "outputs": [
    {
     "data": {
      "image/png": "[encoded data removed]",
      "text/plain": [
       "<Figure size 640x480 with 1 Axes>"
      ]
     },
     "metadata": {},
     "output_type": "display_data"
    }
   ],
   "source": [
    "plt.plot(x,y)\n",
    "plt.xlabel('X axis')\n",
    "plt.ylabel('Y axis') # make sure to put all in same cell\n",
    "plt.xlim(0,6) # add lower and upper limit to x axis\n",
    "plt.ylim(0,15) # add lower and upper limit to y axis\n",
    "plt.title('My first plot') # Add title to Plot\n",
    "plt.savefig('first_plot.png') # save plot as png"
   ]
  },
  {
   "cell_type": "code",
   "execution_count": 73,
   "metadata": {},
   "outputs": [
    {
     "name": "stdout",
     "output_type": "stream",
     "text": [
      "Help on function savefig in module matplotlib.pyplot:\n",
      "\n",
      "savefig(*args, **kwargs)\n",
      "    Save the current figure.\n",
      "    \n",
      "    Call signature::\n",
      "    \n",
      "      savefig(fname, *, dpi='figure', format=None, metadata=None,\n",
      "              bbox_inches=None, pad_inches=0.1,\n",
      "              facecolor='auto', edgecolor='auto',\n",
      "              backend=None, **kwargs\n",
      "             )\n",
      "    \n",
      "    The available output formats depend on the backend being used.\n",
      "    \n",
      "    Parameters\n",
      "    ----------\n",
      "    fname : str or path-like or binary file-like\n",
      "        A path, or a Python file-like object, or\n",
      "        possibly some backend-dependent object such as\n",
      "        `matplotlib.backends.backend_pdf.PdfPages`.\n",
      "    \n",
      "        If *format* is set, it determines the output format, and the file\n",
      "        is saved as *fname*.  Note that *fname* is used verbatim, and there\n",
      "        is no attempt to make the extension, if any, of *fname* match\n",
      "        *format*, and no extension is appended.\n",
      "    \n",
      "        If *format* is not set, then the format is inferred from the\n",
      "        extension of *fname*, if there is one.  If *format* is not\n",
      "        set and *fname* has no extension, then the file is saved with\n",
      "        :rc:`savefig.format` and the appropriate extension is appended to\n",
      "        *fname*.\n",
      "    \n",
      "    Other Parameters\n",
      "    ----------------\n",
      "    dpi : float or 'figure', default: :rc:`savefig.dpi`\n",
      "        The resolution in dots per inch.  If 'figure', use the figure's\n",
      "        dpi value.\n",
      "    \n",
      "    format : str\n",
      "        The file format, e.g. 'png', 'pdf', 'svg', ... The behavior when\n",
      "        this is unset is documented under *fname*.\n",
      "    \n",
      "    metadata : dict, optional\n",
      "        Key/value pairs to store in the image metadata. The supported keys\n",
      "        and defaults depend on the image format and backend:\n",
      "    \n",
      "        - 'png' with Agg backend: See the parameter ``metadata`` of\n",
      "          `~.FigureCanvasAgg.print_png`.\n",
      "        - 'pdf' with pdf backend: See the parameter ``metadata`` of\n",
      "          `~.backend_pdf.PdfPages`.\n",
      "        - 'svg' with svg backend: See the parameter ``metadata`` of\n",
      "          `~.FigureCanvasSVG.print_svg`.\n",
      "        - 'eps' and 'ps' with PS backend: Only 'Creator' is supported.\n",
      "    \n",
      "    bbox_inches : str or `.Bbox`, default: :rc:`savefig.bbox`\n",
      "        Bounding box in inches: only the given portion of the figure is\n",
      "        saved.  If 'tight', try to figure out the tight bbox of the figure.\n",
      "    \n",
      "    pad_inches : float, default: :rc:`savefig.pad_inches`\n",
      "        Amount of padding around the figure when bbox_inches is 'tight'.\n",
      "    \n",
      "    facecolor : color or 'auto', default: :rc:`savefig.facecolor`\n",
      "        The facecolor of the figure.  If 'auto', use the current figure\n",
      "        facecolor.\n",
      "    \n",
      "    edgecolor : color or 'auto', default: :rc:`savefig.edgecolor`\n",
      "        The edgecolor of the figure.  If 'auto', use the current figure\n",
      "        edgecolor.\n",
      "    \n",
      "    backend : str, optional\n",
      "        Use a non-default backend to render the file, e.g. to render a\n",
      "        png file with the \"cairo\" backend rather than the default \"agg\",\n",
      "        or a pdf file with the \"pgf\" backend rather than the default\n",
      "        \"pdf\".  Note that the default backend is normally sufficient.  See\n",
      "        :ref:`the-builtin-backends` for a list of valid backends for each\n",
      "        file format.  Custom backends can be referenced as \"module://...\".\n",
      "    \n",
      "    orientation : {'landscape', 'portrait'}\n",
      "        Currently only supported by the postscript backend.\n",
      "    \n",
      "    papertype : str\n",
      "        One of 'letter', 'legal', 'executive', 'ledger', 'a0' through\n",
      "        'a10', 'b0' through 'b10'. Only supported for postscript\n",
      "        output.\n",
      "    \n",
      "    transparent : bool\n",
      "        If *True*, the Axes patches will all be transparent; the\n",
      "        Figure patch will also be transparent unless *facecolor*\n",
      "        and/or *edgecolor* are specified via kwargs.\n",
      "    \n",
      "        If *False* has no effect and the color of the Axes and\n",
      "        Figure patches are unchanged (unless the Figure patch\n",
      "        is specified via the *facecolor* and/or *edgecolor* keyword\n",
      "        arguments in which case those colors are used).\n",
      "    \n",
      "        The transparency of these patches will be restored to their\n",
      "        original values upon exit of this function.\n",
      "    \n",
      "        This is useful, for example, for displaying\n",
      "        a plot on top of a colored background on a web page.\n",
      "    \n",
      "    bbox_extra_artists : list of `~matplotlib.artist.Artist`, optional\n",
      "        A list of extra artists that will be considered when the\n",
      "        tight bbox is calculated.\n",
      "    \n",
      "    pil_kwargs : dict, optional\n",
      "        Additional keyword arguments that are passed to\n",
      "        `PIL.Image.Image.save` when saving the figure.\n",
      "\n"
     ]
    }
   ],
   "source": [
    "help(plt.savefig) # to get help on how to save the plot"
   ]
  },
  {
   "cell_type": "code",
   "execution_count": null,
   "metadata": {},
   "outputs": [],
   "source": []
  }
 ],
 "metadata": {
  "kernelspec": {
   "display_name": "Python 3.10.7 ('venv': venv)",
   "language": "python",
   "name": "python3"
  },
  "language_info": {
   "codemirror_mode": {
    "name": "ipython",
    "version": 3
   },
   "file_extension": ".py",
   "mimetype": "text/x-python",
   "name": "python",
   "nbconvert_exporter": "python",
   "pygments_lexer": "ipython3",
   "version": "3.10.7"
  },
  "orig_nbformat": 4,
  "vscode": {
   "interpreter": {
    "hash": "a1719f33fcbe1e95d663050a6fb94681e7adadd5f7696135df4f124ae44469f5"
   }
  }
 },
 "nbformat": 4,
 "nbformat_minor": 2
}
